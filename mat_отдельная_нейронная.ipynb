{
  "nbformat": 4,
  "nbformat_minor": 0,
  "metadata": {
    "colab": {
      "provenance": [],
      "gpuType": "T4",
      "authorship_tag": "ABX9TyMIoq0K4ll+gMnPxyyKZ9cg",
      "include_colab_link": true
    },
    "kernelspec": {
      "name": "python3",
      "display_name": "Python 3"
    },
    "language_info": {
      "name": "python"
    },
    "accelerator": "GPU"
  },
  "cells": [
    {
      "cell_type": "markdown",
      "metadata": {
        "id": "view-in-github",
        "colab_type": "text"
      },
      "source": [
        "<a href=\"https://colab.research.google.com/github/Polqer/diplommel1/blob/main/mat_%D0%BE%D1%82%D0%B4%D0%B5%D0%BB%D1%8C%D0%BD%D0%B0%D1%8F_%D0%BD%D0%B5%D0%B9%D1%80%D0%BE%D0%BD%D0%BD%D0%B0%D1%8F.ipynb\" target=\"_parent\"><img src=\"https://colab.research.google.com/assets/colab-badge.svg\" alt=\"Open In Colab\"/></a>"
      ]
    },
    {
      "cell_type": "code",
      "source": [
        "!pip install efficientnet-pytorch\n"
      ],
      "metadata": {
        "colab": {
          "base_uri": "https://localhost:8080/"
        },
        "id": "3fuwesrx1WGB",
        "outputId": "65f9258f-69f3-4dad-9c34-15430c2ab932"
      },
      "execution_count": null,
      "outputs": [
        {
          "output_type": "stream",
          "name": "stdout",
          "text": [
            "Collecting efficientnet-pytorch\n",
            "  Downloading efficientnet_pytorch-0.7.1.tar.gz (21 kB)\n",
            "  Preparing metadata (setup.py) ... \u001b[?25l\u001b[?25hdone\n",
            "Requirement already satisfied: torch in /usr/local/lib/python3.11/dist-packages (from efficientnet-pytorch) (2.5.1+cu121)\n",
            "Requirement already satisfied: filelock in /usr/local/lib/python3.11/dist-packages (from torch->efficientnet-pytorch) (3.17.0)\n",
            "Requirement already satisfied: typing-extensions>=4.8.0 in /usr/local/lib/python3.11/dist-packages (from torch->efficientnet-pytorch) (4.12.2)\n",
            "Requirement already satisfied: networkx in /usr/local/lib/python3.11/dist-packages (from torch->efficientnet-pytorch) (3.4.2)\n",
            "Requirement already satisfied: jinja2 in /usr/local/lib/python3.11/dist-packages (from torch->efficientnet-pytorch) (3.1.5)\n",
            "Requirement already satisfied: fsspec in /usr/local/lib/python3.11/dist-packages (from torch->efficientnet-pytorch) (2024.10.0)\n",
            "Requirement already satisfied: nvidia-cuda-nvrtc-cu12==12.1.105 in /usr/local/lib/python3.11/dist-packages (from torch->efficientnet-pytorch) (12.1.105)\n",
            "Requirement already satisfied: nvidia-cuda-runtime-cu12==12.1.105 in /usr/local/lib/python3.11/dist-packages (from torch->efficientnet-pytorch) (12.1.105)\n",
            "Requirement already satisfied: nvidia-cuda-cupti-cu12==12.1.105 in /usr/local/lib/python3.11/dist-packages (from torch->efficientnet-pytorch) (12.1.105)\n",
            "Requirement already satisfied: nvidia-cudnn-cu12==9.1.0.70 in /usr/local/lib/python3.11/dist-packages (from torch->efficientnet-pytorch) (9.1.0.70)\n",
            "Requirement already satisfied: nvidia-cublas-cu12==12.1.3.1 in /usr/local/lib/python3.11/dist-packages (from torch->efficientnet-pytorch) (12.1.3.1)\n",
            "Requirement already satisfied: nvidia-cufft-cu12==11.0.2.54 in /usr/local/lib/python3.11/dist-packages (from torch->efficientnet-pytorch) (11.0.2.54)\n",
            "Requirement already satisfied: nvidia-curand-cu12==10.3.2.106 in /usr/local/lib/python3.11/dist-packages (from torch->efficientnet-pytorch) (10.3.2.106)\n",
            "Requirement already satisfied: nvidia-cusolver-cu12==11.4.5.107 in /usr/local/lib/python3.11/dist-packages (from torch->efficientnet-pytorch) (11.4.5.107)\n",
            "Requirement already satisfied: nvidia-cusparse-cu12==12.1.0.106 in /usr/local/lib/python3.11/dist-packages (from torch->efficientnet-pytorch) (12.1.0.106)\n",
            "Requirement already satisfied: nvidia-nccl-cu12==2.21.5 in /usr/local/lib/python3.11/dist-packages (from torch->efficientnet-pytorch) (2.21.5)\n",
            "Requirement already satisfied: nvidia-nvtx-cu12==12.1.105 in /usr/local/lib/python3.11/dist-packages (from torch->efficientnet-pytorch) (12.1.105)\n",
            "Requirement already satisfied: triton==3.1.0 in /usr/local/lib/python3.11/dist-packages (from torch->efficientnet-pytorch) (3.1.0)\n",
            "Requirement already satisfied: sympy==1.13.1 in /usr/local/lib/python3.11/dist-packages (from torch->efficientnet-pytorch) (1.13.1)\n",
            "Requirement already satisfied: nvidia-nvjitlink-cu12 in /usr/local/lib/python3.11/dist-packages (from nvidia-cusolver-cu12==11.4.5.107->torch->efficientnet-pytorch) (12.6.85)\n",
            "Requirement already satisfied: mpmath<1.4,>=1.1.0 in /usr/local/lib/python3.11/dist-packages (from sympy==1.13.1->torch->efficientnet-pytorch) (1.3.0)\n",
            "Requirement already satisfied: MarkupSafe>=2.0 in /usr/local/lib/python3.11/dist-packages (from jinja2->torch->efficientnet-pytorch) (3.0.2)\n",
            "Building wheels for collected packages: efficientnet-pytorch\n",
            "  Building wheel for efficientnet-pytorch (setup.py) ... \u001b[?25l\u001b[?25hdone\n",
            "  Created wheel for efficientnet-pytorch: filename=efficientnet_pytorch-0.7.1-py3-none-any.whl size=16424 sha256=702da1752c07e7846aec058b6519803d8ea4d88a02faacaecbbecabb62d16fc5\n",
            "  Stored in directory: /root/.cache/pip/wheels/8b/6f/9b/231a832f811ab6ebb1b32455b177ffc6b8b1cd8de19de70c09\n",
            "Successfully built efficientnet-pytorch\n",
            "Installing collected packages: efficientnet-pytorch\n",
            "Successfully installed efficientnet-pytorch-0.7.1\n"
          ]
        }
      ]
    },
    {
      "cell_type": "code",
      "execution_count": null,
      "metadata": {
        "colab": {
          "base_uri": "https://localhost:8080/",
          "height": 1000
        },
        "id": "bFjmbntxnk9p",
        "outputId": "ed6972c2-616f-4c29-8969-09e9f0d942a6"
      },
      "outputs": [
        {
          "output_type": "stream",
          "name": "stdout",
          "text": [
            "Mounted at /content/drive\n",
            "Using device: cuda:0\n",
            "GPU: Tesla T4\n"
          ]
        },
        {
          "output_type": "display_data",
          "data": {
            "text/plain": [
              "<IPython.core.display.Javascript object>"
            ],
            "application/javascript": [
              "\n",
              "        window._wandbApiKey = new Promise((resolve, reject) => {\n",
              "            function loadScript(url) {\n",
              "            return new Promise(function(resolve, reject) {\n",
              "                let newScript = document.createElement(\"script\");\n",
              "                newScript.onerror = reject;\n",
              "                newScript.onload = resolve;\n",
              "                document.body.appendChild(newScript);\n",
              "                newScript.src = url;\n",
              "            });\n",
              "            }\n",
              "            loadScript(\"https://cdn.jsdelivr.net/npm/postmate/build/postmate.min.js\").then(() => {\n",
              "            const iframe = document.createElement('iframe')\n",
              "            iframe.style.cssText = \"width:0;height:0;border:none\"\n",
              "            document.body.appendChild(iframe)\n",
              "            const handshake = new Postmate({\n",
              "                container: iframe,\n",
              "                url: 'https://wandb.ai/authorize'\n",
              "            });\n",
              "            const timeout = setTimeout(() => reject(\"Couldn't auto authenticate\"), 5000)\n",
              "            handshake.then(function(child) {\n",
              "                child.on('authorize', data => {\n",
              "                    clearTimeout(timeout)\n",
              "                    resolve(data)\n",
              "                });\n",
              "            });\n",
              "            })\n",
              "        });\n",
              "    "
            ]
          },
          "metadata": {}
        },
        {
          "output_type": "stream",
          "name": "stderr",
          "text": [
            "\u001b[34m\u001b[1mwandb\u001b[0m: Logging into wandb.ai. (Learn how to deploy a W&B server locally: https://wandb.me/wandb-server)\n",
            "\u001b[34m\u001b[1mwandb\u001b[0m: You can find your API key in your browser here: https://wandb.ai/authorize\n",
            "wandb: Paste an API key from your profile and hit enter, or press ctrl+c to quit:"
          ]
        },
        {
          "name": "stdout",
          "output_type": "stream",
          "text": [
            " ··········\n"
          ]
        },
        {
          "output_type": "stream",
          "name": "stderr",
          "text": [
            "\u001b[34m\u001b[1mwandb\u001b[0m: Appending key for api.wandb.ai to your netrc file: /root/.netrc\n",
            "\u001b[34m\u001b[1mwandb\u001b[0m: Using wandb-core as the SDK backend.  Please refer to https://wandb.me/wandb-core for more information.\n"
          ]
        },
        {
          "output_type": "display_data",
          "data": {
            "text/plain": [
              "<IPython.core.display.HTML object>"
            ],
            "text/html": [
              "Tracking run with wandb version 0.19.4"
            ]
          },
          "metadata": {}
        },
        {
          "output_type": "display_data",
          "data": {
            "text/plain": [
              "<IPython.core.display.HTML object>"
            ],
            "text/html": [
              "Run data is saved locally in <code>/content/wandb/run-20250128_163416-2wzljmxe</code>"
            ]
          },
          "metadata": {}
        },
        {
          "output_type": "display_data",
          "data": {
            "text/plain": [
              "<IPython.core.display.HTML object>"
            ],
            "text/html": [
              "Syncing run <strong><a href='https://wandb.ai/polina-delitzsch-etu/my-awesome-project/runs/2wzljmxe' target=\"_blank\">matEfficientnet</a></strong> to <a href='https://wandb.ai/polina-delitzsch-etu/my-awesome-project' target=\"_blank\">Weights & Biases</a> (<a href='https://wandb.me/developer-guide' target=\"_blank\">docs</a>)<br>"
            ]
          },
          "metadata": {}
        },
        {
          "output_type": "display_data",
          "data": {
            "text/plain": [
              "<IPython.core.display.HTML object>"
            ],
            "text/html": [
              " View project at <a href='https://wandb.ai/polina-delitzsch-etu/my-awesome-project' target=\"_blank\">https://wandb.ai/polina-delitzsch-etu/my-awesome-project</a>"
            ]
          },
          "metadata": {}
        },
        {
          "output_type": "display_data",
          "data": {
            "text/plain": [
              "<IPython.core.display.HTML object>"
            ],
            "text/html": [
              " View run at <a href='https://wandb.ai/polina-delitzsch-etu/my-awesome-project/runs/2wzljmxe' target=\"_blank\">https://wandb.ai/polina-delitzsch-etu/my-awesome-project/runs/2wzljmxe</a>"
            ]
          },
          "metadata": {}
        },
        {
          "output_type": "stream",
          "name": "stdout",
          "text": [
            "[(PosixPath('/content/drive/MyDrive/datamat/train/DNcube/187.mat'), 0), (PosixPath('/content/drive/MyDrive/datamat/train/DNcube/185.mat'), 0), (PosixPath('/content/drive/MyDrive/datamat/train/DNcube/176.mat'), 0), (PosixPath('/content/drive/MyDrive/datamat/train/DNcube/170.mat'), 0), (PosixPath('/content/drive/MyDrive/datamat/train/DNcube/174.mat'), 0), (PosixPath('/content/drive/MyDrive/datamat/train/DNcube/175.mat'), 0), (PosixPath('/content/drive/MyDrive/datamat/train/DNcube/182.mat'), 0), (PosixPath('/content/drive/MyDrive/datamat/train/DNcube/186.mat'), 0), (PosixPath('/content/drive/MyDrive/datamat/train/DNcube/173.mat'), 0), (PosixPath('/content/drive/MyDrive/datamat/train/DNcube/184.mat'), 0), (PosixPath('/content/drive/MyDrive/datamat/train/DNcube/179.mat'), 0), (PosixPath('/content/drive/MyDrive/datamat/train/DNcube/188.mat'), 0), (PosixPath('/content/drive/MyDrive/datamat/train/DNcube/168.mat'), 0), (PosixPath('/content/drive/MyDrive/datamat/train/DNcube/189.mat'), 0), (PosixPath('/content/drive/MyDrive/datamat/train/DNcube/172.mat'), 0), (PosixPath('/content/drive/MyDrive/datamat/train/DNcube/183.mat'), 0), (PosixPath('/content/drive/MyDrive/datamat/train/DNcube/171.mat'), 0), (PosixPath('/content/drive/MyDrive/datamat/train/DNcube/169.mat'), 0), (PosixPath('/content/drive/MyDrive/datamat/train/DNcube/160.mat'), 0), (PosixPath('/content/drive/MyDrive/datamat/train/DNcube/153.mat'), 0), (PosixPath('/content/drive/MyDrive/datamat/train/DNcube/167.mat'), 0), (PosixPath('/content/drive/MyDrive/datamat/train/DNcube/150.mat'), 0), (PosixPath('/content/drive/MyDrive/datamat/train/DNcube/157.mat'), 0), (PosixPath('/content/drive/MyDrive/datamat/train/DNcube/166.mat'), 0), (PosixPath('/content/drive/MyDrive/datamat/train/DNcube/164.mat'), 0), (PosixPath('/content/drive/MyDrive/datamat/train/DNcube/163.mat'), 0), (PosixPath('/content/drive/MyDrive/datamat/train/DNcube/165.mat'), 0), (PosixPath('/content/drive/MyDrive/datamat/train/DNcube/159.mat'), 0), (PosixPath('/content/drive/MyDrive/datamat/train/DNcube/156.mat'), 0), (PosixPath('/content/drive/MyDrive/datamat/train/DNcube/154.mat'), 0), (PosixPath('/content/drive/MyDrive/datamat/train/DNcube/161.mat'), 0), (PosixPath('/content/drive/MyDrive/datamat/train/DNcube/151.mat'), 0), (PosixPath('/content/drive/MyDrive/datamat/train/DNcube/158.mat'), 0), (PosixPath('/content/drive/MyDrive/datamat/train/DNcube/148.mat'), 0), (PosixPath('/content/drive/MyDrive/datamat/train/DNcube/143.mat'), 0), (PosixPath('/content/drive/MyDrive/datamat/train/DNcube/141.mat'), 0), (PosixPath('/content/drive/MyDrive/datamat/train/DNcube/129.mat'), 0), (PosixPath('/content/drive/MyDrive/datamat/train/DNcube/149.mat'), 0), (PosixPath('/content/drive/MyDrive/datamat/train/DNcube/146.mat'), 0), (PosixPath('/content/drive/MyDrive/datamat/train/DNcube/147.mat'), 0), (PosixPath('/content/drive/MyDrive/datamat/train/DNcube/152.mat'), 0), (PosixPath('/content/drive/MyDrive/datamat/train/DNcube/142.mat'), 0), (PosixPath('/content/drive/MyDrive/datamat/train/DNcube/135.mat'), 0), (PosixPath('/content/drive/MyDrive/datamat/train/DNcube/139.mat'), 0), (PosixPath('/content/drive/MyDrive/datamat/train/DNcube/138.mat'), 0), (PosixPath('/content/drive/MyDrive/datamat/train/DNcube/122.mat'), 0), (PosixPath('/content/drive/MyDrive/datamat/train/DNcube/137.mat'), 0), (PosixPath('/content/drive/MyDrive/datamat/train/DNcube/130.mat'), 0), (PosixPath('/content/drive/MyDrive/datamat/train/DNcube/134.mat'), 0), (PosixPath('/content/drive/MyDrive/datamat/train/DNcube/127.mat'), 0), (PosixPath('/content/drive/MyDrive/datamat/train/DNcube/124.mat'), 0), (PosixPath('/content/drive/MyDrive/datamat/train/DNcube/117.mat'), 0), (PosixPath('/content/drive/MyDrive/datamat/train/DNcube/125.mat'), 0), (PosixPath('/content/drive/MyDrive/datamat/train/DNcube/133.mat'), 0), (PosixPath('/content/drive/MyDrive/datamat/train/DNcube/132.mat'), 0), (PosixPath('/content/drive/MyDrive/datamat/train/DNcube/120.mat'), 0), (PosixPath('/content/drive/MyDrive/datamat/train/DNcube/121.mat'), 0), (PosixPath('/content/drive/MyDrive/datamat/train/DNcube/131.mat'), 0), (PosixPath('/content/drive/MyDrive/datamat/train/DNcube/115.mat'), 0), (PosixPath('/content/drive/MyDrive/datamat/train/DNcube/128.mat'), 0), (PosixPath('/content/drive/MyDrive/datamat/train/DNcube/112.mat'), 0), (PosixPath('/content/drive/MyDrive/datamat/train/DNcube/114.mat'), 0), (PosixPath('/content/drive/MyDrive/datamat/train/DNcube/116.mat'), 0), (PosixPath('/content/drive/MyDrive/datamat/train/DNcube/123.mat'), 0), (PosixPath('/content/drive/MyDrive/datamat/train/DNcube/107.mat'), 0), (PosixPath('/content/drive/MyDrive/datamat/train/DNcube/109.mat'), 0), (PosixPath('/content/drive/MyDrive/datamat/train/DNcube/105.mat'), 0), (PosixPath('/content/drive/MyDrive/datamat/train/DNcube/108.mat'), 0), (PosixPath('/content/drive/MyDrive/datamat/train/DNcube/113.mat'), 0), (PosixPath('/content/drive/MyDrive/datamat/train/DNcube/103.mat'), 0), (PosixPath('/content/drive/MyDrive/datamat/train/DNcube/102.mat'), 0), (PosixPath('/content/drive/MyDrive/datamat/train/DNcube/94.mat'), 0), (PosixPath('/content/drive/MyDrive/datamat/train/DNcube/96.mat'), 0), (PosixPath('/content/drive/MyDrive/datamat/train/DNcube/99.mat'), 0), (PosixPath('/content/drive/MyDrive/datamat/train/DNcube/90.mat'), 0), (PosixPath('/content/drive/MyDrive/datamat/train/DNcube/97.mat'), 0), (PosixPath('/content/drive/MyDrive/datamat/train/DNcube/106.mat'), 0), (PosixPath('/content/drive/MyDrive/datamat/train/DNcube/89.mat'), 0), (PosixPath('/content/drive/MyDrive/datamat/train/DNcube/95.mat'), 0), (PosixPath('/content/drive/MyDrive/datamat/train/DNcube/75.mat'), 0), (PosixPath('/content/drive/MyDrive/datamat/train/DNcube/80.mat'), 0), (PosixPath('/content/drive/MyDrive/datamat/train/DNcube/92.mat'), 0), (PosixPath('/content/drive/MyDrive/datamat/train/DNcube/101.mat'), 0), (PosixPath('/content/drive/MyDrive/datamat/train/DNcube/85.mat'), 0), (PosixPath('/content/drive/MyDrive/datamat/train/DNcube/79.mat'), 0), (PosixPath('/content/drive/MyDrive/datamat/train/DNcube/88.mat'), 0), (PosixPath('/content/drive/MyDrive/datamat/train/DNcube/91.mat'), 0), (PosixPath('/content/drive/MyDrive/datamat/train/DNcube/86.mat'), 0), (PosixPath('/content/drive/MyDrive/datamat/train/DNcube/81.mat'), 0), (PosixPath('/content/drive/MyDrive/datamat/train/DNcube/69.mat'), 0), (PosixPath('/content/drive/MyDrive/datamat/train/DNcube/73.mat'), 0), (PosixPath('/content/drive/MyDrive/datamat/train/DNcube/72.mat'), 0), (PosixPath('/content/drive/MyDrive/datamat/train/DNcube/82.mat'), 0), (PosixPath('/content/drive/MyDrive/datamat/train/DNcube/74.mat'), 0), (PosixPath('/content/drive/MyDrive/datamat/train/DNcube/78.mat'), 0), (PosixPath('/content/drive/MyDrive/datamat/train/DNcube/71.mat'), 0), (PosixPath('/content/drive/MyDrive/datamat/train/DNcube/63.mat'), 0), (PosixPath('/content/drive/MyDrive/datamat/train/DNcube/64.mat'), 0), (PosixPath('/content/drive/MyDrive/datamat/train/DNcube/59.mat'), 0), (PosixPath('/content/drive/MyDrive/datamat/train/DNcube/62.mat'), 0), (PosixPath('/content/drive/MyDrive/datamat/train/DNcube/77.mat'), 0), (PosixPath('/content/drive/MyDrive/datamat/train/MMcube/78.mat'), 1), (PosixPath('/content/drive/MyDrive/datamat/train/MMcube/67.mat'), 1), (PosixPath('/content/drive/MyDrive/datamat/train/MMcube/74.mat'), 1), (PosixPath('/content/drive/MyDrive/datamat/train/MMcube/56.mat'), 1), (PosixPath('/content/drive/MyDrive/datamat/train/MMcube/79.mat'), 1), (PosixPath('/content/drive/MyDrive/datamat/train/MMcube/57.mat'), 1), (PosixPath('/content/drive/MyDrive/datamat/train/MMcube/76.mat'), 1), (PosixPath('/content/drive/MyDrive/datamat/train/MMcube/77.mat'), 1), (PosixPath('/content/drive/MyDrive/datamat/train/MMcube/61.mat'), 1), (PosixPath('/content/drive/MyDrive/datamat/train/MMcube/55.mat'), 1), (PosixPath('/content/drive/MyDrive/datamat/train/MMcube/72.mat'), 1), (PosixPath('/content/drive/MyDrive/datamat/train/MMcube/73.mat'), 1), (PosixPath('/content/drive/MyDrive/datamat/train/MMcube/85.mat'), 1), (PosixPath('/content/drive/MyDrive/datamat/train/MMcube/81.mat'), 1), (PosixPath('/content/drive/MyDrive/datamat/train/MMcube/54.mat'), 1), (PosixPath('/content/drive/MyDrive/datamat/train/MMcube/82.mat'), 1), (PosixPath('/content/drive/MyDrive/datamat/train/MMcube/58.mat'), 1), (PosixPath('/content/drive/MyDrive/datamat/train/MMcube/66.mat'), 1), (PosixPath('/content/drive/MyDrive/datamat/train/MMcube/70.mat'), 1), (PosixPath('/content/drive/MyDrive/datamat/train/MMcube/62.mat'), 1), (PosixPath('/content/drive/MyDrive/datamat/train/MMcube/64.mat'), 1), (PosixPath('/content/drive/MyDrive/datamat/train/MMcube/68.mat'), 1), (PosixPath('/content/drive/MyDrive/datamat/train/MMcube/60.mat'), 1), (PosixPath('/content/drive/MyDrive/datamat/train/MMcube/63.mat'), 1), (PosixPath('/content/drive/MyDrive/datamat/train/MMcube/49.mat'), 1), (PosixPath('/content/drive/MyDrive/datamat/train/MMcube/69.mat'), 1), (PosixPath('/content/drive/MyDrive/datamat/train/MMcube/48.mat'), 1), (PosixPath('/content/drive/MyDrive/datamat/train/MMcube/44.mat'), 1), (PosixPath('/content/drive/MyDrive/datamat/train/MMcube/51.mat'), 1), (PosixPath('/content/drive/MyDrive/datamat/train/MMcube/65.mat'), 1), (PosixPath('/content/drive/MyDrive/datamat/train/MMcube/53.mat'), 1), (PosixPath('/content/drive/MyDrive/datamat/train/MMcube/83.mat'), 1), (PosixPath('/content/drive/MyDrive/datamat/train/MMcube/50.mat'), 1), (PosixPath('/content/drive/MyDrive/datamat/train/MMcube/36.mat'), 1), (PosixPath('/content/drive/MyDrive/datamat/train/MMcube/43.mat'), 1), (PosixPath('/content/drive/MyDrive/datamat/train/MMcube/38.mat'), 1), (PosixPath('/content/drive/MyDrive/datamat/train/MMcube/39.mat'), 1), (PosixPath('/content/drive/MyDrive/datamat/train/MMcube/35.mat'), 1), (PosixPath('/content/drive/MyDrive/datamat/train/MMcube/47.mat'), 1), (PosixPath('/content/drive/MyDrive/datamat/train/MMcube/45.mat'), 1), (PosixPath('/content/drive/MyDrive/datamat/train/MMcube/31.mat'), 1), (PosixPath('/content/drive/MyDrive/datamat/train/MMcube/23.mat'), 1), (PosixPath('/content/drive/MyDrive/datamat/train/MMcube/37.mat'), 1), (PosixPath('/content/drive/MyDrive/datamat/train/MMcube/25.mat'), 1), (PosixPath('/content/drive/MyDrive/datamat/train/MMcube/30.mat'), 1), (PosixPath('/content/drive/MyDrive/datamat/train/MMcube/33.mat'), 1), (PosixPath('/content/drive/MyDrive/datamat/train/MMcube/27.mat'), 1), (PosixPath('/content/drive/MyDrive/datamat/train/MMcube/32.mat'), 1), (PosixPath('/content/drive/MyDrive/datamat/train/MMcube/42.mat'), 1), (PosixPath('/content/drive/MyDrive/datamat/train/MMcube/22.mat'), 1), (PosixPath('/content/drive/MyDrive/datamat/train/MMcube/28.mat'), 1), (PosixPath('/content/drive/MyDrive/datamat/train/MMcube/21.mat'), 1), (PosixPath('/content/drive/MyDrive/datamat/train/MMcube/34.mat'), 1), (PosixPath('/content/drive/MyDrive/datamat/train/MMcube/29.mat'), 1), (PosixPath('/content/drive/MyDrive/datamat/train/MMcube/24.mat'), 1), (PosixPath('/content/drive/MyDrive/datamat/train/MMcube/17.mat'), 1), (PosixPath('/content/drive/MyDrive/datamat/train/MMcube/15.mat'), 1), (PosixPath('/content/drive/MyDrive/datamat/train/MMcube/18.mat'), 1), (PosixPath('/content/drive/MyDrive/datamat/train/MMcube/40.mat'), 1), (PosixPath('/content/drive/MyDrive/datamat/train/MMcube/10.mat'), 1), (PosixPath('/content/drive/MyDrive/datamat/train/MMcube/11.mat'), 1), (PosixPath('/content/drive/MyDrive/datamat/train/MMcube/9.mat'), 1), (PosixPath('/content/drive/MyDrive/datamat/train/MMcube/12.mat'), 1), (PosixPath('/content/drive/MyDrive/datamat/train/MMcube/14.mat'), 1), (PosixPath('/content/drive/MyDrive/datamat/train/MMcube/8.mat'), 1), (PosixPath('/content/drive/MyDrive/datamat/train/MMcube/16.mat'), 1), (PosixPath('/content/drive/MyDrive/datamat/train/MMcube/2.mat'), 1), (PosixPath('/content/drive/MyDrive/datamat/train/MMcube/5.mat'), 1), (PosixPath('/content/drive/MyDrive/datamat/train/nocancer/Nv12.mat'), 2), (PosixPath('/content/drive/MyDrive/datamat/train/nocancer/Sebk8.mat'), 2), (PosixPath('/content/drive/MyDrive/datamat/train/nocancer/Sebk13.mat'), 2), (PosixPath('/content/drive/MyDrive/datamat/train/nocancer/Sebk15.mat'), 2), (PosixPath('/content/drive/MyDrive/datamat/train/nocancer/Nv7.mat'), 2), (PosixPath('/content/drive/MyDrive/datamat/train/nocancer/Sebk2.mat'), 2), (PosixPath('/content/drive/MyDrive/datamat/train/nocancer/Nv5.mat'), 2), (PosixPath('/content/drive/MyDrive/datamat/train/nocancer/Sebk11.mat'), 2), (PosixPath('/content/drive/MyDrive/datamat/train/nocancer/Sebk3.mat'), 2), (PosixPath('/content/drive/MyDrive/datamat/train/nocancer/Nv11.mat'), 2), (PosixPath('/content/drive/MyDrive/datamat/train/nocancer/Sebk14.mat'), 2), (PosixPath('/content/drive/MyDrive/datamat/train/nocancer/Sebk7.mat'), 2), (PosixPath('/content/drive/MyDrive/datamat/train/nocancer/Nv9.mat'), 2), (PosixPath('/content/drive/MyDrive/datamat/train/nocancer/Nv14.mat'), 2), (PosixPath('/content/drive/MyDrive/datamat/train/nocancer/Nv6.mat'), 2), (PosixPath('/content/drive/MyDrive/datamat/train/nocancer/Nv4.mat'), 2), (PosixPath('/content/drive/MyDrive/datamat/train/nocancer/Sebk1.mat'), 2), (PosixPath('/content/drive/MyDrive/datamat/train/nocancer/Sebk5.mat'), 2), (PosixPath('/content/drive/MyDrive/datamat/train/nocancer/Sebk6.mat'), 2), (PosixPath('/content/drive/MyDrive/datamat/train/nocancer/Nv1.mat'), 2), (PosixPath('/content/drive/MyDrive/datamat/train/nocancer/Nv3.mat'), 2), (PosixPath('/content/drive/MyDrive/datamat/train/nocancer/Melt26.mat'), 2), (PosixPath('/content/drive/MyDrive/datamat/train/nocancer/Nv13.mat'), 2), (PosixPath('/content/drive/MyDrive/datamat/train/nocancer/Melt20.mat'), 2), (PosixPath('/content/drive/MyDrive/datamat/train/nocancer/Nv2.mat'), 2), (PosixPath('/content/drive/MyDrive/datamat/train/nocancer/Sebk10.mat'), 2), (PosixPath('/content/drive/MyDrive/datamat/train/nocancer/Melt23.mat'), 2), (PosixPath('/content/drive/MyDrive/datamat/train/nocancer/Melt25.mat'), 2), (PosixPath('/content/drive/MyDrive/datamat/train/nocancer/Melt28.mat'), 2), (PosixPath('/content/drive/MyDrive/datamat/train/nocancer/Melt13.mat'), 2), (PosixPath('/content/drive/MyDrive/datamat/train/nocancer/Melt7.mat'), 2), (PosixPath('/content/drive/MyDrive/datamat/train/nocancer/Melt3.mat'), 2), (PosixPath('/content/drive/MyDrive/datamat/train/nocancer/Melt12.mat'), 2), (PosixPath('/content/drive/MyDrive/datamat/train/nocancer/Melt16.mat'), 2), (PosixPath('/content/drive/MyDrive/datamat/train/nocancer/Melt10.mat'), 2), (PosixPath('/content/drive/MyDrive/datamat/train/nocancer/Melt18.mat'), 2), (PosixPath('/content/drive/MyDrive/datamat/train/nocancer/Melt24.mat'), 2), (PosixPath('/content/drive/MyDrive/datamat/train/nocancer/Melt17.mat'), 2), (PosixPath('/content/drive/MyDrive/datamat/train/nocancer/Melt8.mat'), 2), (PosixPath('/content/drive/MyDrive/datamat/train/nocancer/Melt27.mat'), 2), (PosixPath('/content/drive/MyDrive/datamat/train/nocancer/Melt14.mat'), 2), (PosixPath('/content/drive/MyDrive/datamat/train/nocancer/Melt5.mat'), 2), (PosixPath('/content/drive/MyDrive/datamat/train/nocancer/Melt4.mat'), 2), (PosixPath('/content/drive/MyDrive/datamat/train/nocancer/Melt9.mat'), 2), (PosixPath('/content/drive/MyDrive/datamat/train/nocancer/Melt2.mat'), 2), (PosixPath('/content/drive/MyDrive/datamat/train/nocancer/Lentigo16.mat'), 2), (PosixPath('/content/drive/MyDrive/datamat/train/nocancer/Lentigo10.mat'), 2), (PosixPath('/content/drive/MyDrive/datamat/train/nocancer/Lentigo14.mat'), 2), (PosixPath('/content/drive/MyDrive/datamat/train/nocancer/Melt1.mat'), 2), (PosixPath('/content/drive/MyDrive/datamat/train/nocancer/Melt15.mat'), 2), (PosixPath('/content/drive/MyDrive/datamat/train/nocancer/Lentigo6.mat'), 2), (PosixPath('/content/drive/MyDrive/datamat/train/nocancer/Lentigo12.mat'), 2), (PosixPath('/content/drive/MyDrive/datamat/train/nocancer/Lentigo18.mat'), 2), (PosixPath('/content/drive/MyDrive/datamat/train/nocancer/Lentigo13.mat'), 2), (PosixPath('/content/drive/MyDrive/datamat/train/nocancer/Lentigo4.mat'), 2), (PosixPath('/content/drive/MyDrive/datamat/train/nocancer/Lentigo15.mat'), 2), (PosixPath('/content/drive/MyDrive/datamat/train/nocancer/Lentigo5.mat'), 2), (PosixPath('/content/drive/MyDrive/datamat/train/nocancer/Lentigo1.mat'), 2), (PosixPath('/content/drive/MyDrive/datamat/train/nocancer/Lentigo7.mat'), 2), (PosixPath('/content/drive/MyDrive/datamat/train/nocancer/Lentigo9.mat'), 2), (PosixPath('/content/drive/MyDrive/datamat/train/nocancer/IEC2.mat'), 2), (PosixPath('/content/drive/MyDrive/datamat/train/nocancer/Lentigo3.mat'), 2)]\n"
          ]
        },
        {
          "output_type": "stream",
          "name": "stderr",
          "text": [
            "Downloading: \"https://github.com/lukemelas/EfficientNet-PyTorch/releases/download/1.0/efficientnet-b0-355c32eb.pth\" to /root/.cache/torch/hub/checkpoints/efficientnet-b0-355c32eb.pth\n",
            "100%|██████████| 20.4M/20.4M [00:00<00:00, 362MB/s]\n"
          ]
        },
        {
          "output_type": "stream",
          "name": "stdout",
          "text": [
            "Loaded pretrained weights for efficientnet-b0\n",
            "Epoch 1/10, Loss: 0.4203, Accuracy: 36.80%\n",
            "Validation Accuracy: 44.07%\n",
            "Epoch 2/10, Loss: 0.0030, Accuracy: 41.13%\n",
            "Validation Accuracy: 33.90%\n",
            "Epoch 3/10, Loss: 0.0005, Accuracy: 44.59%\n",
            "Validation Accuracy: 25.42%\n",
            "Epoch 4/10, Loss: 0.0000, Accuracy: 39.39%\n",
            "Validation Accuracy: 30.51%\n",
            "Epoch 5/10, Loss: 0.0003, Accuracy: 35.93%\n",
            "Validation Accuracy: 28.81%\n",
            "Epoch 6/10, Loss: 0.0000, Accuracy: 39.39%\n",
            "Validation Accuracy: 28.81%\n",
            "Epoch 7/10, Loss: 0.0000, Accuracy: 40.69%\n",
            "Validation Accuracy: 28.81%\n",
            "Epoch 8/10, Loss: 0.0170, Accuracy: 33.33%\n",
            "Validation Accuracy: 28.81%\n",
            "Epoch 9/10, Loss: 0.0000, Accuracy: 36.80%\n",
            "Validation Accuracy: 30.51%\n",
            "Epoch 10/10, Loss: 0.0000, Accuracy: 36.80%\n",
            "Validation Accuracy: 28.81%\n"
          ]
        },
        {
          "output_type": "display_data",
          "data": {
            "text/plain": [
              "<IPython.core.display.HTML object>"
            ],
            "text/html": []
          },
          "metadata": {}
        },
        {
          "output_type": "display_data",
          "data": {
            "text/plain": [
              "<IPython.core.display.HTML object>"
            ],
            "text/html": [
              "<br>    <style><br>        .wandb-row {<br>            display: flex;<br>            flex-direction: row;<br>            flex-wrap: wrap;<br>            justify-content: flex-start;<br>            width: 100%;<br>        }<br>        .wandb-col {<br>            display: flex;<br>            flex-direction: column;<br>            flex-basis: 100%;<br>            flex: 1;<br>            padding: 10px;<br>        }<br>    </style><br><div class=\"wandb-row\"><div class=\"wandb-col\"><h3>Run history:</h3><br/><table class=\"wandb\"><tr><td>accuracy</td><td>▅█▇▄█▁▆▃▅▂▆▂▇▂▄▂▅▃▅▂</td></tr><tr><td>macro/f1</td><td>▆▂▇▃█▂▆▂▆▁▆▁▇▁▅▁▅▂▆▂</td></tr><tr><td>macro/precision</td><td>▅▂▆▂█▄▇▃▇▁▆▁▇▁▅▁▆▄█▃</td></tr><tr><td>macro/recall</td><td>▄▄▆▁█▂▆▄▅▄▆▄▇▄▃▄▅▄▅▃</td></tr><tr><td>micro/f1</td><td>▅█▇▄█▁▆▃▅▂▆▂▇▂▄▂▅▃▅▂</td></tr><tr><td>micro/precision</td><td>▅█▇▄█▁▆▃▅▂▆▂▇▂▄▂▅▃▅▂</td></tr><tr><td>micro/recall</td><td>▅█▇▄█▁▆▃▅▂▆▂▇▂▄▂▅▃▅▂</td></tr><tr><td>micro/roc_auc_score</td><td>▄▂▆▃█▂▆▁▆▅▆▅▅▃▄▄▆▄▆▄</td></tr><tr><td>train_accuracy</td><td>▃▆█▅▃▅▆▁▃▃</td></tr><tr><td>train_loss</td><td>█▁▁▁▁▁▁▁▁▁</td></tr><tr><td>val_accuracy</td><td>█▄▁▃▂▂▂▂▃▂</td></tr><tr><td>weighted/f1</td><td>▆▄▇▄█▂▇▂▆▁▆▁▇▁▅▁▆▃▆▂</td></tr><tr><td>weighted/precision</td><td>▅▃▆▃█▄▇▃▇▁▇▁▇▁▅▁▆▄█▃</td></tr><tr><td>weighted/recall</td><td>▅█▇▄█▁▆▃▅▂▆▂▇▂▄▂▅▃▅▂</td></tr></table><br/></div><div class=\"wandb-col\"><h3>Run summary:</h3><br/><table class=\"wandb\"><tr><td>accuracy</td><td>0.28814</td></tr><tr><td>macro/f1</td><td>0.16911</td></tr><tr><td>macro/precision</td><td>0.20635</td></tr><tr><td>macro/recall</td><td>0.32655</td></tr><tr><td>micro/f1</td><td>0.28814</td></tr><tr><td>micro/precision</td><td>0.28814</td></tr><tr><td>micro/recall</td><td>0.28814</td></tr><tr><td>micro/roc_auc_score</td><td>0.50888</td></tr><tr><td>train_accuracy</td><td>36.79654</td></tr><tr><td>train_loss</td><td>0.0</td></tr><tr><td>val_accuracy</td><td>28.81356</td></tr><tr><td>weighted/f1</td><td>0.1567</td></tr><tr><td>weighted/precision</td><td>0.22922</td></tr><tr><td>weighted/recall</td><td>0.28814</td></tr></table><br/></div></div>"
            ]
          },
          "metadata": {}
        },
        {
          "output_type": "display_data",
          "data": {
            "text/plain": [
              "<IPython.core.display.HTML object>"
            ],
            "text/html": [
              " View run <strong style=\"color:#cdcd00\">matEfficientnet</strong> at: <a href='https://wandb.ai/polina-delitzsch-etu/my-awesome-project/runs/2wzljmxe' target=\"_blank\">https://wandb.ai/polina-delitzsch-etu/my-awesome-project/runs/2wzljmxe</a><br> View project at: <a href='https://wandb.ai/polina-delitzsch-etu/my-awesome-project' target=\"_blank\">https://wandb.ai/polina-delitzsch-etu/my-awesome-project</a><br>Synced 5 W&B file(s), 0 media file(s), 0 artifact file(s) and 0 other file(s)"
            ]
          },
          "metadata": {}
        },
        {
          "output_type": "display_data",
          "data": {
            "text/plain": [
              "<IPython.core.display.HTML object>"
            ],
            "text/html": [
              "Find logs at: <code>./wandb/run-20250128_163416-2wzljmxe/logs</code>"
            ]
          },
          "metadata": {}
        }
      ],
      "source": [
        "import torch\n",
        "import torch.nn as nn\n",
        "import torch.optim as optim\n",
        "from torch.utils.data import Dataset, DataLoader\n",
        "from torchvision import transforms\n",
        "from scipy.io import loadmat\n",
        "from pathlib import Path\n",
        "from efficientnet_pytorch import EfficientNet\n",
        "import numpy as np\n",
        "import wandb\n",
        "from sklearn.metrics import accuracy_score, confusion_matrix, precision_score, recall_score, f1_score, roc_auc_score\n",
        "\n",
        "from google.colab import drive\n",
        "drive.mount('/content/drive')\n",
        "device = torch.device(\"cuda:0\" if torch.cuda.is_available() else \"cpu\")\n",
        "print(f\"Using device: {device}\")\n",
        "if device.type == \"cuda\":\n",
        "    print(f\"GPU: {torch.cuda.get_device_name(0)}\")\n",
        "# ======== Настройки ========\n",
        "\n",
        "train_dir= '/content/drive/MyDrive/datamat/train'\n",
        "val_dir = '/content/drive/MyDrive/datamat/test'\n",
        "wandb.init(project=\"my-awesome-project\", name= \"matEfficientnet\")\n",
        "batch_size = 16\n",
        "num_epochs = 10\n",
        "learning_rate = 0.001\n",
        "input_size = (16, 256, 256)  # (channels, height, width)\n",
        "num_classes = 3  # \"mm\", \"nn\", \"other\"\n",
        "\n",
        "\n",
        "class FocalLoss(nn.Module):\n",
        "    def __init__(self, gamma=2., alpha=0.25, num_classes=3):\n",
        "        super(FocalLoss, self).__init__()\n",
        "        self.gamma = gamma\n",
        "        self.alpha = alpha\n",
        "        self.num_classes = num_classes\n",
        "\n",
        "    def forward(self, inputs, targets):\n",
        "        inputs = torch.clamp(inputs, 1e-7, 1 - 1e-7)  # Чтобы избежать логарифмирования 0\n",
        "        targets = torch.eye(self.num_classes).to(inputs.device).index_select(dim=0, index=targets)  # Преобразуем метки в one-hot\n",
        "        cross_entropy_loss = -targets * torch.log(inputs)\n",
        "        loss = self.alpha * torch.pow(1 - inputs, self.gamma) * cross_entropy_loss\n",
        "        return loss.sum(dim=1).mean()  # Среднее по батчу\n",
        "\n",
        "# ======== Кастомный датасет ========\n",
        "\n",
        "\n",
        "class HyperspectralDataset(Dataset):\n",
        "    def __init__(self, root_dir, transform=None):\n",
        "        self.root_dir = Path(root_dir)  # Путь к корню директории с данными\n",
        "        self.transform = transform\n",
        "        self.classes = sorted([d.name for d in self.root_dir.iterdir() if d.is_dir()])  # Список классов из папок\n",
        "        self.class_to_idx = {cls_name: idx for idx, cls_name in enumerate(self.classes)}  # Индексация классов\n",
        "        self.files = []\n",
        "\n",
        "        # Проходим по всем классам и добавляем файлы\n",
        "        for cls_name in self.classes:\n",
        "            class_dir = self.root_dir / cls_name\n",
        "            for file_path in class_dir.glob(\"*.mat\"):  # Поиск .mat файлов в каждой папке\n",
        "                self.files.append((file_path, self.class_to_idx[cls_name]))  # Добавляем файл и метку\n",
        "\n",
        "    def __len__(self):\n",
        "        return len(self.files)  # Возвращаем общее количество файлов\n",
        "\n",
        "    def __getitem__(self, idx):\n",
        "        file_path, label = self.files[idx]  # Получаем путь к файлу и метку класса\n",
        "        mat_data = loadmat(file_path)  # Загружаем данные из .mat файла\n",
        "\n",
        "        # Проверка наличия ожидаемого ключа в файле\n",
        "        if 'DataCubeC' not in mat_data:\n",
        "            raise KeyError(f\"Ключ 'DataCubeC' не найден в файле {file_path}\")\n",
        "\n",
        "        # Получаем изображение\n",
        "        image = mat_data['DataCubeC']\n",
        "        image = np.transpose(image, (2, 0, 1))  # Преобразуем в формат (channels, height, width)\n",
        "\n",
        "\n",
        "        # Преобразуем изображение в тензор PyTorch\n",
        "        image = torch.tensor(image, dtype=torch.float32)\n",
        "\n",
        "\n",
        "        # Применяем трансформации (если есть)\n",
        "        if self.transform:\n",
        "            image = self.transform(image)\n",
        "\n",
        "        return image, label\n",
        "# ======== Модель с EfficientNet3D ========\n",
        "class EfficientNet3D(nn.Module):\n",
        "    def __init__(self, num_classes):\n",
        "        super(EfficientNet3D, self).__init__()\n",
        "\n",
        "        # Предположим, что мы используем предобученную модель EfficientNet\n",
        "        self.model = EfficientNet.from_pretrained('efficientnet-b0')\n",
        "\n",
        "        # Изменяем первый слой свертки, чтобы принимать 16 каналов\n",
        "        in_channels = 16  # Количество каналов в ваших гиперспектральных изображениях\n",
        "        self.model._conv_stem = nn.Conv2d(in_channels=in_channels,\n",
        "                                          out_channels=self.model._conv_stem.out_channels,\n",
        "                                          kernel_size=self.model._conv_stem.kernel_size,\n",
        "                                          stride=self.model._conv_stem.stride,\n",
        "                                          padding=self.model._conv_stem.padding,\n",
        "                                          bias=False)\n",
        "\n",
        "        # Заменяем последний слой для классификации 3-х классов\n",
        "        in_features = self.model._fc.in_features\n",
        "        self.model._fc = nn.Linear(in_features, num_classes)\n",
        "\n",
        "    def forward(self, x):\n",
        "        return self.model(x)\n",
        "\n",
        "\n",
        "def calculate_metrics(y_true, y_pred, y_true_proba, y_pred_proba):\n",
        "    return {\n",
        "        'accuracy': accuracy_score(y_true=y_true, y_pred=y_pred),\n",
        "        'confusion_matrix': confusion_matrix(y_true=y_true, y_pred=y_pred),\n",
        "        'micro/precision': precision_score(y_true=y_true, y_pred=y_pred, average='micro', zero_division=0),\n",
        "        'micro/recall': recall_score(y_true=y_true, y_pred=y_pred, average='micro', zero_division=0),\n",
        "        'micro/f1': f1_score(y_true=y_true, y_pred=y_pred, average='micro', zero_division=0),\n",
        "        'micro/roc_auc_score': roc_auc_score(y_true, y_pred_proba, multi_class='ovr', average='macro'),\n",
        "        'macro/precision': precision_score(y_true=y_true, y_pred=y_pred, average='macro', zero_division=0),\n",
        "        'macro/recall': recall_score(y_true=y_true, y_pred=y_pred, average='macro', zero_division=0),\n",
        "        'macro/f1': f1_score(y_true=y_true, y_pred=y_pred, average='macro', zero_division=0),\n",
        "        'roc_auc_score':  roc_auc_score(y_true=y_true_proba, y_score=y_pred_proba, average=None, multi_class='ovr'),\n",
        "        'weighted/precision': precision_score(y_true=y_true, y_pred=y_pred, average='weighted', zero_division=0),\n",
        "        'weighted/recall': recall_score(y_true=y_true, y_pred=y_pred, average='weighted', zero_division=0),\n",
        "        'weighted/f1': f1_score(y_true=y_true, y_pred=y_pred, average='weighted', zero_division=0)\n",
        "    }\n",
        "\n",
        "def train_and_validate(train_dir, val_dir):\n",
        "    # Трансформации\n",
        "    transform = transforms.Compose([transforms.Normalize(mean=[0.5], std=[0.5])])\n",
        "\n",
        "    # Загружаем данные\n",
        "    train_dataset = HyperspectralDataset(train_dir, transform=transform)\n",
        "    val_dataset = HyperspectralDataset(val_dir, transform=transform)\n",
        "\n",
        "    print(train_dataset.files)\n",
        "    train_loader = DataLoader(train_dataset, batch_size=batch_size, shuffle=True)\n",
        "    val_loader = DataLoader(val_dataset, batch_size=batch_size, shuffle=False)\n",
        "\n",
        "    # Инициализация модели\n",
        "    model = EfficientNet3D(num_classes=num_classes)\n",
        "    model = model.cuda() if torch.cuda.is_available() else model\n",
        "\n",
        "    # Определение потерь и оптимизатора\n",
        "    criterion = FocalLoss(gamma=2., alpha=0.25, num_classes=num_classes)\n",
        "    optimizer = optim.Adam(model.parameters(), lr=learning_rate)\n",
        "\n",
        "    # Тренировка\n",
        "    for epoch in range(num_epochs):\n",
        "        model.train()\n",
        "        running_loss = 0.0\n",
        "        correct = 0\n",
        "        total = 0\n",
        "        all_labels = []\n",
        "        all_preds = []\n",
        "        all_probs = []\n",
        "\n",
        "        for inputs, labels in train_loader:\n",
        "            inputs, labels = inputs.cuda() if torch.cuda.is_available() else inputs, labels.cuda() if torch.cuda.is_available() else labels\n",
        "\n",
        "            optimizer.zero_grad()\n",
        "            outputs = model(inputs)\n",
        "            loss = criterion(outputs, labels)\n",
        "            loss.backward()\n",
        "            optimizer.step()\n",
        "\n",
        "            running_loss += loss.item()\n",
        "\n",
        "            _, predicted = torch.max(outputs, 1)\n",
        "            total += labels.size(0)\n",
        "            correct += (predicted == labels).sum().item()\n",
        "\n",
        "            all_labels.extend(labels.cpu().numpy())\n",
        "            all_preds.extend(predicted.cpu().numpy())\n",
        "            all_probs.extend(torch.softmax(outputs, dim=1).detach().cpu().numpy())\n",
        "\n",
        "\n",
        "        epoch_loss = running_loss / len(train_loader)\n",
        "        epoch_accuracy = correct / total * 100\n",
        "        print(f\"Epoch {epoch + 1}/{num_epochs}, Loss: {epoch_loss:.4f}, Accuracy: {epoch_accuracy:.2f}%\")\n",
        "\n",
        "        # Логирование метрик в W&B\n",
        "        train_metrics = calculate_metrics(all_labels, all_preds, np.array(all_labels), np.array(all_probs))\n",
        "        wandb.log({\n",
        "            'train_loss': epoch_loss,\n",
        "            'train_accuracy': epoch_accuracy,\n",
        "            **train_metrics\n",
        "        })\n",
        "\n",
        "        # Валидация\n",
        "        model.eval()\n",
        "        val_correct = 0\n",
        "        val_total = 0\n",
        "        val_labels = []\n",
        "        val_preds = []\n",
        "        val_probs = []\n",
        "\n",
        "        with torch.no_grad():\n",
        "            for inputs, labels in val_loader:\n",
        "                inputs, labels = inputs.cuda() if torch.cuda.is_available() else inputs, labels.cuda() if torch.cuda.is_available() else labels\n",
        "\n",
        "                outputs = model(inputs)\n",
        "                _, predicted = torch.max(outputs, 1)\n",
        "                val_total += labels.size(0)\n",
        "                val_correct += (predicted == labels).sum().item()\n",
        "\n",
        "                val_labels.extend(labels.cpu().numpy())\n",
        "                val_preds.extend(predicted.cpu().numpy())\n",
        "                val_probs.extend(torch.softmax(outputs, dim=1).cpu().numpy())\n",
        "\n",
        "        val_accuracy = val_correct / val_total * 100\n",
        "        print(f\"Validation Accuracy: {val_accuracy:.2f}%\")\n",
        "\n",
        "        # Логирование метрик в W&B для валидации\n",
        "        val_metrics = calculate_metrics(val_labels, val_preds, np.array(val_labels), np.array(val_probs))\n",
        "        wandb.log({\n",
        "            'val_accuracy': val_accuracy,\n",
        "            **val_metrics\n",
        "        })\n",
        "\n",
        "    # Завершение сессии W&B\n",
        "    wandb.finish()\n",
        "\n",
        "\n",
        "# ======== Запуск ========\n",
        "train_and_validate(train_dir, val_dir)\n"
      ]
    },
    {
      "cell_type": "code",
      "source": [
        "import os\n",
        "from scipy.io import loadmat\n",
        "import torch\n",
        "from torch.utils.data import Dataset\n",
        "from torchvision import transforms\n",
        "\n",
        "class YourDataset(Dataset):\n",
        "    def __init__(self, root_dir, transform=None):\n",
        "        self.root_dir = root_dir\n",
        "        self.transform = transform\n",
        "        self.files = []  # Список файлов и меток\n",
        "        self.classes = os.listdir(root_dir)  # Список классов (имена папок)\n",
        "        self.class_to_idx = {cls: idx for idx, cls in enumerate(self.classes)}  # Маппинг класса на метку\n",
        "\n",
        "        # Собираем все файлы и метки\n",
        "        for label, class_name in enumerate(self.classes):\n",
        "            class_dir = os.path.join(root_dir, class_name)\n",
        "            for file_name in os.listdir(class_dir):\n",
        "                if file_name.endswith('.mat'):  # Проверка на формат .mat\n",
        "                    file_path = os.path.join(class_dir, file_name)\n",
        "                    self.files.append((file_path, label))  # Добавляем путь и метку\n",
        "\n",
        "    def __len__(self):\n",
        "        return len(self.files)\n",
        "\n",
        "    def __getitem__(self, idx):\n",
        "        file_path, label = self.files[idx]\n",
        "        mat_data = loadmat(file_path)\n",
        "\n",
        "        # Предполагаем, что данные в файле под ключом 'DataCubeC'\n",
        "        image = mat_data['DataCubeC']\n",
        "\n",
        "        # Преобразование данных (если необходимо)\n",
        "        if self.transform:\n",
        "            image = self.transform(image)\n",
        "\n",
        "        return image, label\n",
        "import torch\n",
        "from torch.utils.data import DataLoader\n",
        "\n",
        "# Путь к вашей папке с данными\n",
        "train_dir= '/content/drive/MyDrive/datamat/train'\n",
        "\n",
        "# Преобразования, если они нужны\n",
        "transform = transforms.Compose([\n",
        "    transforms.ToTensor(),\n",
        "    # Добавьте другие преобразования, если нужно\n",
        "])\n",
        "\n",
        "# Создаем датасет\n",
        "dataset = YourDataset(root_dir=train_dir, transform=transform)\n",
        "\n",
        "# Создаем DataLoader\n",
        "train_loader = DataLoader(dataset, batch_size=16, shuffle=True)\n",
        "\n",
        "# Проверим, как загружаются данные\n",
        "for images, labels in train_loader:\n",
        "    print(f\"Images shape: {images.shape}, Labels: {labels}\")\n",
        "    break  # Проверим только первый батч\n"
      ],
      "metadata": {
        "colab": {
          "base_uri": "https://localhost:8080/"
        },
        "id": "7AAudqxQ4OKT",
        "outputId": "640f7ad3-8420-4ad2-c752-d731bf3af0ce"
      },
      "execution_count": null,
      "outputs": [
        {
          "output_type": "stream",
          "name": "stdout",
          "text": [
            "Images shape: torch.Size([16, 16, 272, 512]), Labels: tensor([2, 1, 0, 2, 1, 2, 2, 2, 0, 0, 0, 2, 0, 0, 2, 2])\n"
          ]
        }
      ]
    }
  ]
}